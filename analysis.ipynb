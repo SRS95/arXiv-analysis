{
 "cells": [
  {
   "cell_type": "code",
   "execution_count": 10,
   "metadata": {},
   "outputs": [
    {
     "ename": "ImportError",
     "evalue": "cannot import name 'take' from 'itertools' (unknown location)",
     "output_type": "error",
     "traceback": [
      "\u001b[0;31m---------------------------------------------------------------------------\u001b[0m",
      "\u001b[0;31mImportError\u001b[0m                               Traceback (most recent call last)",
      "\u001b[0;32m<ipython-input-10-818a921db80b>\u001b[0m in \u001b[0;36m<module>\u001b[0;34m\u001b[0m\n\u001b[1;32m      2\u001b[0m \u001b[0;32mimport\u001b[0m \u001b[0mpandas\u001b[0m \u001b[0;32mas\u001b[0m \u001b[0mpd\u001b[0m\u001b[0;34m\u001b[0m\u001b[0;34m\u001b[0m\u001b[0m\n\u001b[1;32m      3\u001b[0m \u001b[0;32mimport\u001b[0m \u001b[0mjson\u001b[0m\u001b[0;34m\u001b[0m\u001b[0;34m\u001b[0m\u001b[0m\n\u001b[0;32m----> 4\u001b[0;31m \u001b[0;32mfrom\u001b[0m \u001b[0mitertools\u001b[0m \u001b[0;32mimport\u001b[0m \u001b[0mtake\u001b[0m\u001b[0;34m\u001b[0m\u001b[0;34m\u001b[0m\u001b[0m\n\u001b[0m",
      "\u001b[0;31mImportError\u001b[0m: cannot import name 'take' from 'itertools' (unknown location)"
     ]
    }
   ],
   "source": [
    "import numpy as np\n",
    "import pandas as pd\n",
    "import json"
   ]
  },
  {
   "cell_type": "markdown",
   "metadata": {},
   "source": [
    "DATA EXPLORATION:"
   ]
  },
  {
   "cell_type": "code",
   "execution_count": 2,
   "metadata": {},
   "outputs": [],
   "source": [
    "PATH = './612177_1135627_bundle_archive'"
   ]
  },
  {
   "cell_type": "markdown",
   "metadata": {},
   "source": [
    "Look at authors data"
   ]
  },
  {
   "cell_type": "code",
   "execution_count": 6,
   "metadata": {},
   "outputs": [],
   "source": [
    "with open(PATH + '/authors-parsed.json') as f:\n",
    "    authors = json.load(f)"
   ]
  },
  {
   "cell_type": "code",
   "execution_count": 8,
   "metadata": {},
   "outputs": [
    {
     "data": {
      "text/plain": [
       "1687263"
      ]
     },
     "execution_count": 8,
     "metadata": {},
     "output_type": "execute_result"
    }
   ],
   "source": [
    "len(authors)"
   ]
  },
  {
   "cell_type": "code",
   "execution_count": 12,
   "metadata": {},
   "outputs": [
    {
     "name": "stdout",
     "output_type": "stream",
     "text": [
      "0\n",
      "0704.0001\n",
      "[['Balázs', 'C.', ''], ['Berger', 'E. L.', ''], ['Nadolsky', 'P. M.', ''], ['Yuan', 'C. -P.', '']]\n",
      "1\n",
      "0704.0002\n",
      "[['Streinu', 'Ileana', ''], ['Theran', 'Louis', '']]\n",
      "2\n",
      "0704.0003\n",
      "[['Pan', 'Hongjun', '']]\n",
      "3\n",
      "0704.0004\n",
      "[['Callan', 'David', '']]\n",
      "4\n",
      "0704.0005\n",
      "[['Abu-Shammala', 'Wael', ''], ['Torchinsky', 'Alberto', '']]\n",
      "5\n",
      "0704.0006\n",
      "[['Pong', 'Y. H.', ''], ['Law', 'C. K.', '']]\n",
      "6\n",
      "0704.0007\n",
      "[['Corichi', 'Alejandro', ''], ['Vukasinac', 'Tatjana', ''], ['Zapata', 'Jose A.', '']]\n",
      "7\n",
      "0704.0008\n",
      "[['Swift', 'Damian C.', '']]\n",
      "8\n",
      "0704.0009\n",
      "[['Harvey', 'Paul', ''], ['Merin', 'Bruno', ''], ['Huard', 'Tracy L.', ''], ['Rebull', 'Luisa M.', ''], ['Chapman', 'Nicholas', ''], ['Evans', 'Neal J.', 'II'], ['Myers', 'Philip C.', '']]\n",
      "9\n",
      "0704.0010\n",
      "[['Ovchinnikov', 'Sergei', '']]\n",
      "10\n",
      "0704.0011\n",
      "[['Cunningham', 'Clifton', ''], ['Dembele', 'Lassina', '']]\n",
      "11\n",
      "0704.0012\n",
      "[['Choi', 'Dohoon', '']]\n"
     ]
    }
   ],
   "source": [
    "for i, key in enumerate(authors.keys()):\n",
    "    print(i)\n",
    "    print(key)\n",
    "    print(authors[key])\n",
    "    if i > 10: break"
   ]
  },
  {
   "cell_type": "markdown",
   "metadata": {},
   "source": [
    "Look at citation data"
   ]
  },
  {
   "cell_type": "code",
   "execution_count": 13,
   "metadata": {},
   "outputs": [],
   "source": [
    "with open(PATH + '/internal-citations.json') as f:\n",
    "    citations = json.load(f)"
   ]
  },
  {
   "cell_type": "code",
   "execution_count": 14,
   "metadata": {},
   "outputs": [
    {
     "data": {
      "text/plain": [
       "1644669"
      ]
     },
     "execution_count": 14,
     "metadata": {},
     "output_type": "execute_result"
    }
   ],
   "source": [
    "len(citations)"
   ]
  },
  {
   "cell_type": "code",
   "execution_count": 15,
   "metadata": {},
   "outputs": [
    {
     "name": "stdout",
     "output_type": "stream",
     "text": [
      "0\n",
      "hep-lat/0403007\n",
      "['hep-lat/0209117', 'hep-lat/0005023', 'hep-ph/9805389', 'hep-ph/0311130', 'hep-ph/9511397', 'hep-lat/0306021', 'hep-ph/0004180', 'hep-lat/0107021', 'hep-lat/0103011', 'hep-lat/0306026', 'hep-lat/0303026', 'hep-lat/0307001', 'hep-lat/0212039', 'hep-lat/0107023', 'hep-lat/0108006', 'hep-lat/0010005', 'hep-lat/0310029', 'hep-lat/0401015', 'hep-lat/0311039', 'hep-lat/0111005', 'hep-lat/0209111', 'hep-lat/0306027', 'hep-ph/0007101', 'hep-lat/0403007', 'hep-lat/0304004', 'hep-ph/0206058', 'hep-lat/9909072', 'hep-lat/0304014', 'hep-lat/0010019', 'hep-lat/0104002', 'hep-lat/9310009', 'hep-lat/0011074', 'hep-ph/0111180', 'hep-lat/0302011', 'hep-ph/0211271', 'hep-lat/9310022', 'hep-lat/0208065', 'hep-lat/0206016', 'hep-lat/0211042', 'hep-lat/0308019', 'hep-lat/0006020', 'hep-lat/0009008', 'hep-lat/0006026', 'hep-lat/0309171', 'hep-lat/0310063', 'hep-ph/0105132', 'hep-lat/0211040', 'hep-lat/0209036', 'hep-lat/0311023', 'hep-lat/0110167', 'hep-lat/0105015', 'hep-ph/9707291', 'hep-lat/0210035']\n",
      "1\n",
      "hep-lat/0403003\n",
      "['hep-lat/0403003', 'hep-lat/0110070', 'hep-lat/9707022', 'hep-lat/9901003']\n",
      "2\n",
      "hep-lat/0403004\n",
      "['hep-lat/0211012', 'hep-lat/0310005', 'hep-lat/0310039', 'hep-lat/0309115', 'hep-lat/0207004', 'hep-lat/9407002', 'hep-lat/9607029', 'hep-lat/0007034', 'hep-lat/0309147', 'hep-lat/0110119', 'hep-lat/0211038', 'hep-th/0103130', 'hep-lat/9701007', 'hep-lat/0205008', 'hep-lat/0108014', 'hep-lat/0108008', 'hep-lat/0107007', 'hep-lat/0401032', 'hep-lat/0207003', 'hep-lat/0403004']\n",
      "3\n",
      "hep-lat/0403020\n",
      "['hep-lat/0403020', 'hep-lat/0112008', 'hep-lat/0309190']\n",
      "4\n",
      "hep-lat/0403001\n",
      "['hep-lat/0305022', 'cond-mat/9702070', 'hep-lat/0312035', 'hep-lat/0403001', 'hep-lat/0311039', 'hep-lat/9710001', 'cond-mat/9705295']\n",
      "5\n",
      "hep-lat/0403013\n",
      "['hep-lat/0308031', 'hep-th/9710205', 'hep-lat/0403013']\n",
      "6\n",
      "hep-lat/0403015\n",
      "['hep-lat/0403012', 'hep-lat/0403015', 'hep-lat/0309133', 'hep-lat/0312029', 'nucl-th/0311027', 'hep-lat/0312030', 'hep-lat/0011089', 'hep-lat/0205021']\n",
      "7\n",
      "hep-lat/0403006\n",
      "['hep-ph/0408267', 'hep-lat/0403006', 'hep-ph/9607436', 'hep-ph/0503173', 'hep-ph/0411126', 'hep-ph/9508227', 'hep-ph/0310072', 'hep-ph/0410081', 'hep-ph/0311033', 'hep-lat/0307027', 'hep-ph/9911206', 'hep-ph/0312303', 'hep-ph/0503172', 'hep-lat/0205021']\n",
      "8\n",
      "hep-lat/0403005\n",
      "['hep-lat/0403005', 'nucl-th/9911018', 'hep-ph/9808398', 'nucl-th/9905059', 'hep-th/9707257', 'nucl-th/9907042', 'nucl-th/9802075', 'nucl-th/9801034', 'nucl-th/0402051', 'hep-ph/9807302', 'nucl-ex/0309009', 'nucl-ex/0204014', 'hep-lat/0311035', 'hep-lat/0308016', 'nucl-th/0008032', 'nucl-th/0311027', 'nucl-th/0101017', 'hep-lat/0312004', 'nucl-ex/0204008', 'nucl-th/0210073', 'nucl-th/9605002', 'nucl-th/0104030', 'hep-lat/0212037', 'nucl-th/0011067', 'hep-ph/0206113', 'nucl-th/0402072', 'nucl-th/0208055', 'hep-lat/9206013', 'hep-lat/0209043', 'nucl-th/9610052', 'hep-lat/9906034', 'hep-lat/9501024', 'nucl-th/9804032', 'nucl-th/0208021', 'nucl-th/9808007', 'nucl-th/9902056', 'hep-lat/0209124', 'nucl-th/0207089', 'nucl-th/9910038', 'nucl-th/0303038', 'hep-lat/0210046', 'hep-ph/9509371', 'nucl-th/0206026']\n",
      "9\n",
      "hep-lat/0403023\n",
      "['hep-lat/0403023']\n",
      "10\n",
      "hep-lat/0403014\n",
      "['hep-lat/0310012', 'hep-lat/9702016', 'hep-lat/0311028', 'hep-lat/0203026', 'hep-lat/0201019', 'hep-lat/0107023', 'hep-lat/9510042', 'hep-lat/9311007', 'hep-lat/9505021', 'hep-lat/0009027', 'hep-lat/0306017', 'hep-lat/0110112', 'hep-lat/0209142', 'hep-lat/0403007', 'hep-lat/0309094', 'hep-lat/9306005', 'hep-lat/0302011', 'hep-lat/0307002', 'hep-ph/0011049', 'hep-lat/0403014', 'hep-lat/0209141', 'hep-lat/0006026', 'hep-lat/0308010', 'hep-lat/0206008', 'hep-lat/0311023']\n",
      "11\n",
      "hep-lat/0403028\n",
      "['hep-lat/0309075', 'hep-lat/9605008', 'hep-lat/0309048', 'hep-ph/0310283', 'hep-lat/9612014', 'hep-lat/0403028', 'hep-lat/0309168', 'hep-lat/0309155']\n"
     ]
    }
   ],
   "source": [
    "# For hep-lat: https://arxiv.org/archive/hep-lat\n",
    "for i, key in enumerate(citations.keys()):\n",
    "    print(i)\n",
    "    print(key)\n",
    "    print(citations[key])\n",
    "    if i > 10: break"
   ]
  },
  {
   "cell_type": "markdown",
   "metadata": {},
   "source": [
    "Look at full data"
   ]
  },
  {
   "cell_type": "code",
   "execution_count": 17,
   "metadata": {},
   "outputs": [],
   "source": [
    "data = []\n",
    "for line in open(PATH + '/arxiv-metadata-oai-snapshot.json', 'r'):\n",
    "    data.append(json.loads(line))"
   ]
  },
  {
   "cell_type": "code",
   "execution_count": 18,
   "metadata": {},
   "outputs": [
    {
     "data": {
      "text/plain": [
       "3360984"
      ]
     },
     "execution_count": 18,
     "metadata": {},
     "output_type": "execute_result"
    }
   ],
   "source": [
    "len(data)"
   ]
  },
  {
   "cell_type": "code",
   "execution_count": 26,
   "metadata": {},
   "outputs": [
    {
     "name": "stdout",
     "output_type": "stream",
     "text": [
      "{'id': '0704.0001', 'submitter': 'Pavel Nadolsky', 'authors': \"C. Bal\\\\'azs, E. L. Berger, P. M. Nadolsky, C.-P. Yuan\", 'title': 'Calculation of prompt diphoton production cross sections at Tevatron and\\n  LHC energies', 'comments': '37 pages, 15 figures; published version', 'journal-ref': 'Phys.Rev.D76:013009,2007', 'doi': '10.1103/PhysRevD.76.013009', 'abstract': '  A fully differential calculation in perturbative quantum chromodynamics is\\npresented for the production of massive photon pairs at hadron colliders. All\\nnext-to-leading order perturbative contributions from quark-antiquark,\\ngluon-(anti)quark, and gluon-gluon subprocesses are included, as well as\\nall-orders resummation of initial-state gluon radiation valid at\\nnext-to-next-to-leading logarithmic accuracy. The region of phase space is\\nspecified in which the calculation is most reliable. Good agreement is\\ndemonstrated with data from the Fermilab Tevatron, and predictions are made for\\nmore detailed tests with CDF and DO data. Predictions are shown for\\ndistributions of diphoton pairs produced at the energy of the Large Hadron\\nCollider (LHC). Distributions of the diphoton pairs from the decay of a Higgs\\nboson are contrasted with those produced from QCD processes at the LHC, showing\\nthat enhanced sensitivity to the signal can be obtained with judicious\\nselection of events.\\n', 'report-no': 'ANL-HEP-PR-07-12', 'categories': ['hep-ph'], 'versions': ['v1', 'v2']} \n",
      "\n",
      "\n",
      "{'id': '0704.0002', 'submitter': 'Louis Theran', 'authors': 'Ileana Streinu and Louis Theran', 'title': 'Sparsity-certifying Graph Decompositions', 'comments': 'To appear in Graphs and Combinatorics', 'journal-ref': None, 'doi': None, 'abstract': '  We describe a new algorithm, the $(k,\\\\ell)$-pebble game with colors, and use\\nit obtain a characterization of the family of $(k,\\\\ell)$-sparse graphs and\\nalgorithmic solutions to a family of problems concerning tree decompositions of\\ngraphs. Special instances of sparse graphs appear in rigidity theory and have\\nreceived increased attention in recent years. In particular, our colored\\npebbles generalize and strengthen the previous results of Lee and Streinu and\\ngive a new proof of the Tutte-Nash-Williams characterization of arboricity. We\\nalso present a new decomposition that certifies sparsity based on the\\n$(k,\\\\ell)$-pebble game with colors. Our work also exposes connections between\\npebble game algorithms and previous sparse graph algorithms by Gabow, Gabow and\\nWestermann and Hendrickson.\\n', 'report-no': None, 'categories': ['math.CO cs.CG'], 'versions': ['v1', 'v2']} \n",
      "\n",
      "\n",
      "{'id': '0704.0003', 'submitter': 'Hongjun Pan', 'authors': 'Hongjun Pan', 'title': 'The evolution of the Earth-Moon system based on the dark matter field\\n  fluid model', 'comments': '23 pages, 3 figures', 'journal-ref': None, 'doi': None, 'abstract': \"  The evolution of Earth-Moon system is described by the dark matter field\\nfluid model proposed in the Meeting of Division of Particle and Field 2004,\\nAmerican Physical Society. The current behavior of the Earth-Moon system agrees\\nwith this model very well and the general pattern of the evolution of the\\nMoon-Earth system described by this model agrees with geological and fossil\\nevidence. The closest distance of the Moon to Earth was about 259000 km at 4.5\\nbillion years ago, which is far beyond the Roche's limit. The result suggests\\nthat the tidal friction may not be the primary cause for the evolution of the\\nEarth-Moon system. The average dark matter field fluid constant derived from\\nEarth-Moon system data is 4.39 x 10^(-22) s^(-1)m^(-1). This model predicts\\nthat the Mars's rotation is also slowing with the angular acceleration rate\\nabout -4.38 x 10^(-22) rad s^(-2).\\n\", 'report-no': None, 'categories': ['physics.gen-ph'], 'versions': ['v1', 'v2', 'v3']} \n",
      "\n",
      "\n",
      "{'id': '0704.0004', 'submitter': 'David Callan', 'authors': 'David Callan', 'title': 'A determinant of Stirling cycle numbers counts unlabeled acyclic\\n  single-source automata', 'comments': '11 pages', 'journal-ref': None, 'doi': None, 'abstract': '  We show that a determinant of Stirling cycle numbers counts unlabeled acyclic\\nsingle-source automata. The proof involves a bijection from these automata to\\ncertain marked lattice paths and a sign-reversing involution to evaluate the\\ndeterminant.\\n', 'report-no': None, 'categories': ['math.CO'], 'versions': ['v1']} \n",
      "\n",
      "\n",
      "{'id': '0704.0005', 'submitter': 'Alberto Torchinsky', 'authors': 'Wael Abu-Shammala and Alberto Torchinsky', 'title': 'From dyadic $\\\\Lambda_{\\\\alpha}$ to $\\\\Lambda_{\\\\alpha}$', 'comments': None, 'journal-ref': 'Illinois J. Math. 52 (2008) no.2, 681-689', 'doi': None, 'abstract': '  In this paper we show how to compute the $\\\\Lambda_{\\\\alpha}$ norm, $\\\\alpha\\\\ge\\n0$, using the dyadic grid. This result is a consequence of the description of\\nthe Hardy spaces $H^p(R^N)$ in terms of dyadic and special atoms.\\n', 'report-no': None, 'categories': ['math.CA math.FA'], 'versions': ['v1']} \n",
      "\n",
      "\n",
      "{'id': '0704.0006', 'submitter': 'Yue Hin Pong', 'authors': 'Y. H. Pong and C. K. Law', 'title': 'Bosonic characters of atomic Cooper pairs across resonance', 'comments': '6 pages, 4 figures, accepted by PRA', 'journal-ref': None, 'doi': '10.1103/PhysRevA.75.043613', 'abstract': '  We study the two-particle wave function of paired atoms in a Fermi gas with\\ntunable interaction strengths controlled by Feshbach resonance. The Cooper pair\\nwave function is examined for its bosonic characters, which is quantified by\\nthe correction of Bose enhancement factor associated with the creation and\\nannihilation composite particle operators. An example is given for a\\nthree-dimensional uniform gas. Two definitions of Cooper pair wave function are\\nexamined. One of which is chosen to reflect the off-diagonal long range order\\n(ODLRO). Another one corresponds to a pair projection of a BCS state. On the\\nside with negative scattering length, we found that paired atoms described by\\nODLRO are more bosonic than the pair projected definition. It is also found\\nthat at $(k_F a)^{-1} \\\\ge 1$, both definitions give similar results, where more\\nthan 90% of the atoms occupy the corresponding molecular condensates.\\n', 'report-no': None, 'categories': ['cond-mat.mes-hall'], 'versions': ['v1']} \n",
      "\n",
      "\n",
      "{'id': '0704.0007', 'submitter': 'Alejandro Corichi', 'authors': 'Alejandro Corichi, Tatjana Vukasinac and Jose A. Zapata', 'title': 'Polymer Quantum Mechanics and its Continuum Limit', 'comments': '16 pages, no figures. Typos corrected to match published version', 'journal-ref': 'Phys.Rev.D76:044016,2007', 'doi': '10.1103/PhysRevD.76.044016', 'abstract': '  A rather non-standard quantum representation of the canonical commutation\\nrelations of quantum mechanics systems, known as the polymer representation has\\ngained some attention in recent years, due to its possible relation with Planck\\nscale physics. In particular, this approach has been followed in a symmetric\\nsector of loop quantum gravity known as loop quantum cosmology. Here we explore\\ndifferent aspects of the relation between the ordinary Schroedinger theory and\\nthe polymer description. The paper has two parts. In the first one, we derive\\nthe polymer quantum mechanics starting from the ordinary Schroedinger theory\\nand show that the polymer description arises as an appropriate limit. In the\\nsecond part we consider the continuum limit of this theory, namely, the reverse\\nprocess in which one starts from the discrete theory and tries to recover back\\nthe ordinary Schroedinger quantum mechanics. We consider several examples of\\ninterest, including the harmonic oscillator, the free particle and a simple\\ncosmological model.\\n', 'report-no': 'IGPG-07/03-2', 'categories': ['gr-qc'], 'versions': ['v1', 'v2']} \n",
      "\n",
      "\n",
      "{'id': '0704.0008', 'submitter': 'Damian Swift', 'authors': 'Damian C. Swift', 'title': 'Numerical solution of shock and ramp compression for general material\\n  properties', 'comments': 'Minor corrections', 'journal-ref': 'Journal of Applied Physics, vol 104, 073536 (2008)', 'doi': '10.1063/1.2975338', 'abstract': '  A general formulation was developed to represent material models for\\napplications in dynamic loading. Numerical methods were devised to calculate\\nresponse to shock and ramp compression, and ramp decompression, generalizing\\nprevious solutions for scalar equations of state. The numerical methods were\\nfound to be flexible and robust, and matched analytic results to a high\\naccuracy. The basic ramp and shock solution methods were coupled to solve for\\ncomposite deformation paths, such as shock-induced impacts, and shock\\ninteractions with a planar interface between different materials. These\\ncalculations capture much of the physics of typical material dynamics\\nexperiments, without requiring spatially-resolving simulations. Example\\ncalculations were made of loading histories in metals, illustrating the effects\\nof plastic work on the temperatures induced in quasi-isentropic and\\nshock-release experiments, and the effect of a phase transition.\\n', 'report-no': 'LA-UR-07-2051, LLNL-JRNL-410358', 'categories': ['cond-mat.mtrl-sci'], 'versions': ['v1', 'v2', 'v3']} \n",
      "\n",
      "\n",
      "{'id': '0704.0009', 'submitter': 'Paul Harvey', 'authors': 'Paul Harvey, Bruno Merin, Tracy L. Huard, Luisa M. Rebull, Nicholas\\n  Chapman, Neal J. Evans II, Philip C. Myers', 'title': 'The Spitzer c2d Survey of Large, Nearby, Insterstellar Clouds. IX. The\\n  Serpens YSO Population As Observed With IRAC and MIPS', 'comments': None, 'journal-ref': 'Astrophys.J.663:1149-1173,2007', 'doi': '10.1086/518646', 'abstract': \"  We discuss the results from the combined IRAC and MIPS c2d Spitzer Legacy\\nobservations of the Serpens star-forming region. In particular we present a set\\nof criteria for isolating bona fide young stellar objects, YSO's, from the\\nextensive background contamination by extra-galactic objects. We then discuss\\nthe properties of the resulting high confidence set of YSO's. We find 235 such\\nobjects in the 0.85 deg^2 field that was covered with both IRAC and MIPS. An\\nadditional set of 51 lower confidence YSO's outside this area is identified\\nfrom the MIPS data combined with 2MASS photometry. We describe two sets of\\nresults, color-color diagrams to compare our observed source properties with\\nthose of theoretical models for star/disk/envelope systems and our own modeling\\nof the subset of our objects that appear to be star+disks. These objects\\nexhibit a very wide range of disk properties, from many that can be fit with\\nactively accreting disks to some with both passive disks and even possibly\\ndebris disks. We find that the luminosity function of YSO's in Serpens extends\\ndown to at least a few x .001 Lsun or lower for an assumed distance of 260 pc.\\nThe lower limit may be set by our inability to distinguish YSO's from\\nextra-galactic sources more than by the lack of YSO's at very low luminosities.\\nA spatial clustering analysis shows that the nominally less-evolved YSO's are\\nmore highly clustered than the later stages and that the background\\nextra-galactic population can be fit by the same two-point correlation function\\nas seen in other extra-galactic studies. We also present a table of matches\\nbetween several previous infrared and X-ray studies of the Serpens YSO\\npopulation and our Spitzer data set.\\n\", 'report-no': None, 'categories': ['astro-ph'], 'versions': ['v1']} \n",
      "\n",
      "\n",
      "{'id': '0704.0010', 'submitter': 'Sergei Ovchinnikov', 'authors': 'Sergei Ovchinnikov', 'title': 'Partial cubes: structures, characterizations, and constructions', 'comments': '36 pages, 17 figures', 'journal-ref': None, 'doi': None, 'abstract': \"  Partial cubes are isometric subgraphs of hypercubes. Structures on a graph\\ndefined by means of semicubes, and Djokovi\\\\'{c}'s and Winkler's relations play\\nan important role in the theory of partial cubes. These structures are employed\\nin the paper to characterize bipartite graphs and partial cubes of arbitrary\\ndimension. New characterizations are established and new proofs of some known\\nresults are given.\\n  The operations of Cartesian product and pasting, and expansion and\\ncontraction processes are utilized in the paper to construct new partial cubes\\nfrom old ones. In particular, the isometric and lattice dimensions of finite\\npartial cubes obtained by means of these operations are calculated.\\n\", 'report-no': None, 'categories': ['math.CO'], 'versions': ['v1']} \n",
      "\n",
      "\n",
      "{'id': '0704.0011', 'submitter': 'Clifton Cunningham', 'authors': 'Clifton Cunningham and Lassina Dembele', 'title': 'Computing genus 2 Hilbert-Siegel modular forms over $\\\\Q(\\\\sqrt{5})$ via\\n  the Jacquet-Langlands correspondence', 'comments': '14 pages; title changed; to appear in Experimental Mathematics', 'journal-ref': None, 'doi': None, 'abstract': '  In this paper we present an algorithm for computing Hecke eigensystems of\\nHilbert-Siegel cusp forms over real quadratic fields of narrow class number\\none. We give some illustrative examples using the quadratic field\\n$\\\\Q(\\\\sqrt{5})$. In those examples, we identify Hilbert-Siegel eigenforms that\\nare possible lifts from Hilbert eigenforms.\\n', 'report-no': None, 'categories': ['math.NT math.AG'], 'versions': ['v1', 'v2', 'v3']} \n",
      "\n",
      "\n",
      "{'id': '0704.0012', 'submitter': 'Dohoon Choi', 'authors': 'Dohoon Choi', 'title': 'Distribution of integral Fourier Coefficients of a Modular Form of Half\\n  Integral Weight Modulo Primes', 'comments': None, 'journal-ref': None, 'doi': None, 'abstract': \"  Recently, Bruinier and Ono classified cusp forms $f(z) := \\\\sum_{n=0}^{\\\\infty}\\na_f(n)q ^n \\\\in S_{\\\\lambda+1/2}(\\\\Gamma_0(N),\\\\chi)\\\\cap \\\\mathbb{Z}[[q]]$ that does\\nnot satisfy a certain distribution property for modulo odd primes $p$. In this\\npaper, using Rankin-Cohen Bracket, we extend this result to modular forms of\\nhalf integral weight for primes $p \\\\geq 5$. As applications of our main theorem\\nwe derive distribution properties, for modulo primes $p\\\\geq5$, of traces of\\nsingular moduli and Hurwitz class number. We also study an analogue of Newman's\\nconjecture for overpartitions.\\n\", 'report-no': None, 'categories': ['math.NT'], 'versions': ['v1']} \n",
      "\n",
      "\n"
     ]
    }
   ],
   "source": [
    "for i, elem in enumerate(data):\n",
    "    print(elem, '\\n\\n')\n",
    "    if i > 10: break"
   ]
  },
  {
   "cell_type": "code",
   "execution_count": 27,
   "metadata": {},
   "outputs": [
    {
     "name": "stdout",
     "output_type": "stream",
     "text": [
      "id\n",
      "submitter\n",
      "authors\n",
      "title\n",
      "comments\n",
      "journal-ref\n",
      "doi\n",
      "abstract\n",
      "report-no\n",
      "categories\n",
      "versions\n"
     ]
    }
   ],
   "source": [
    "# Show keys available for each paper\n",
    "for key in data[0]:\n",
    "    print(key)"
   ]
  }
 ],
 "metadata": {
  "kernelspec": {
   "display_name": "Python3 (base)",
   "language": "python",
   "name": "python-3-base"
  },
  "language_info": {
   "codemirror_mode": {
    "name": "ipython",
    "version": 3
   },
   "file_extension": ".py",
   "mimetype": "text/x-python",
   "name": "python",
   "nbconvert_exporter": "python",
   "pygments_lexer": "ipython3",
   "version": "3.7.4"
  }
 },
 "nbformat": 4,
 "nbformat_minor": 2
}
